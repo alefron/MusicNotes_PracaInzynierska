{
 "cells": [
  {
   "cell_type": "code",
   "execution_count": 5,
   "id": "e4e453a2-1d52-4db1-9b80-4289d2285060",
   "metadata": {},
   "outputs": [],
   "source": [
    "import torch\n",
    "import sys\n",
    "from pathlib import Path\n",
    "from torch.utils.mobile_optimizer import optimize_for_mobile\n",
    "sys.path.append(\"..\")\n",
    "from dc_bit.utils import get_predictions, read_label_encoding, get_model, choose_device"
   ]
  },
  {
   "cell_type": "code",
   "execution_count": 6,
   "id": "37e2c2a6-845f-42fb-885c-2e7e71e4103d",
   "metadata": {},
   "outputs": [],
   "source": [
    "path_to_weights = Path('/Users/aleksandrafront/Library/Mobile Documents/com~apple~CloudDocs/Music Notes Dataset/29_11_2021_00-21_musicNotes2.pth')\n",
    "device = choose_device()\n",
    "\n",
    "model_conv = get_model(\n",
    "        path_to_weights=path_to_weights,\n",
    "        device=device,\n",
    "        load_head=True,\n",
    "        n_classes=14\n",
    "    )"
   ]
  },
  {
   "cell_type": "code",
   "execution_count": 15,
   "id": "a8e76f08-7466-4bbb-8c8b-92afa02e6e64",
   "metadata": {},
   "outputs": [],
   "source": [
    "example = torch.rand(1, 3, 224, 224)\n",
    "model_conv = model_conv.to(\"cpu\")"
   ]
  },
  {
   "cell_type": "code",
   "execution_count": 16,
   "id": "bfd2fb85-4e02-4c94-b6a5-64bba064b07c",
   "metadata": {},
   "outputs": [
    {
     "name": "stderr",
     "output_type": "stream",
     "text": [
      "/Users/aleksandrafront/opt/anaconda3/lib/python3.8/site-packages/torch/jit/_trace.py:983: TracerWarning: Output nr 1. of the traced function does not match the corresponding output of the Python function. Detailed error:\n",
      "Tensor-likes are not close!\n",
      "\n",
      "Mismatched elements: 14 / 14 (100.0%)\n",
      "Greatest absolute difference: 1.3071566224098206 at index (0, 3) (up to 1e-05 allowed)\n",
      "Greatest relative difference: 24.280184493195005 at index (0, 9) (up to 1e-05 allowed)\n",
      "  _check_trace(\n"
     ]
    }
   ],
   "source": [
    "#tracing\n",
    "traced_module = torch.jit.trace(model_conv, example)\n",
    "optimized_model = optimize_for_mobile(traced_module)"
   ]
  },
  {
   "cell_type": "code",
   "execution_count": 5,
   "id": "1d1e39ba-4e6e-4360-a830-ea365f837630",
   "metadata": {},
   "outputs": [],
   "source": [
    "PATH = '/Users/aleksandrafront/Library/Mobile Documents/com~apple~CloudDocs/Music Notes Dataset/29_11_2021_00-21_musicNotes2_optimized.pt'"
   ]
  },
  {
   "cell_type": "code",
   "execution_count": 6,
   "id": "1b8965ad-3f43-453a-a83b-801a9d346d15",
   "metadata": {},
   "outputs": [],
   "source": [
    "optimized_model.save(PATH)"
   ]
  },
  {
   "cell_type": "code",
   "execution_count": null,
   "id": "081b51ba-f288-4f6d-980f-204ffcbefe0c",
   "metadata": {},
   "outputs": [],
   "source": []
  }
 ],
 "metadata": {
  "kernelspec": {
   "display_name": "Python 3",
   "language": "python",
   "name": "python3"
  },
  "language_info": {
   "codemirror_mode": {
    "name": "ipython",
    "version": 3
   },
   "file_extension": ".py",
   "mimetype": "text/x-python",
   "name": "python",
   "nbconvert_exporter": "python",
   "pygments_lexer": "ipython3",
   "version": "3.8.8"
  }
 },
 "nbformat": 4,
 "nbformat_minor": 5
}
